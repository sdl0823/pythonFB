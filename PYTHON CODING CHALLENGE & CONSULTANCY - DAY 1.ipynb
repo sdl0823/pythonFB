{
 "cells": [
  {
   "cell_type": "code",
   "execution_count": 1,
   "metadata": {},
   "outputs": [
    {
     "name": "stdout",
     "output_type": "stream",
     "text": [
      "employees_d={'Joe': '1,110', 'Sue': '2,120', 'Bo': '3,95', 'Li': '4,90', 'Ty': '5,80', 'Vi': '6,86'}\n",
      "employees_d2={'Joe': [1, 110], 'Sue': [2, 120], 'Bo': [3, 95], 'Li': [4, 90], 'Ty': [5, 80], 'Vi': [6, 86]}\n"
     ]
    }
   ],
   "source": [
    "employees_old = 'Joe,1,110,M*Sue,2,120,F*Bo,3,95,M*Li,4,90,F*Ty,5,80,M*Vi,6,86,F'\n",
    "employees_old = employees_old.split(',')\n",
    "del employees_old[-1]\n",
    "\n",
    "new_e = ''\n",
    "for s in employees_old:    \n",
    "    if '*' in s:\n",
    "        new_s = s.split('*')[1]\n",
    "        s = new_s        \n",
    "    if new_e == '':\n",
    "        new_e += s\n",
    "    else:\n",
    "        new_e  = new_e + ',' + s\n",
    "employees_old = new_e\n",
    "employees_old = employees_old.split(',')\n",
    "new_s1 = ''\n",
    "new_s2 = ''\n",
    "new_list = []\n",
    "count = 0\n",
    "\n",
    "for s in employees_old:    \n",
    "    if count == 0:\n",
    "        new_s1 += s\n",
    "        count += 1\n",
    "    elif count == 1:\n",
    "        new_s2 += s\n",
    "        count += 1\n",
    "    else:\n",
    "        new_s2 = new_s2 + ',' + s\n",
    "        new_list.append([new_s1,new_s2])\n",
    "        new_s1 = ''\n",
    "        new_s2 = ''\n",
    "        count = 0\n",
    "\n",
    "def v_split(v):\n",
    "    v1,v2 = v.split(',')\n",
    "    return [int(v1),int(v2)]\n",
    "employees_d = {k:v for k,v in new_list}\n",
    "print(f'employees_d={employees_d}')\n",
    "employees_d2 = {k:v_split(v) for k,v in employees_d.items()}\n",
    "print(f'employees_d2={employees_d2}')"
   ]
  }
 ],
 "metadata": {
  "kernelspec": {
   "display_name": "Python 3",
   "language": "python",
   "name": "python3"
  },
  "language_info": {
   "codemirror_mode": {
    "name": "ipython",
    "version": 3
   },
   "file_extension": ".py",
   "mimetype": "text/x-python",
   "name": "python",
   "nbconvert_exporter": "python",
   "pygments_lexer": "ipython3",
   "version": "3.8.5"
  }
 },
 "nbformat": 4,
 "nbformat_minor": 4
}
