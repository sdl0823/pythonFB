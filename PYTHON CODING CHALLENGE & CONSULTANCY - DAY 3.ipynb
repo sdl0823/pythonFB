{
 "cells": [
  {
   "cell_type": "markdown",
   "metadata": {},
   "source": [
    "#pyrun to edit code in browser\n",
    "Please share code in some editable format or via link 🙏\n",
    "company must change payment practice, paying preliminary taxes direct to state. employees get paid net sum after taxes. Code monthly pay-slips!\n",
    "wages = hrs worked * basepay + 1500 bonus if employee makes >1100 calls\n",
    "tax system is progressive paying 30% base rate on all income and 50% on monthly income above 16 700 copper. example income 18500: 16700*0.3 + 1800*0.5 => 5010 + 900 = 5910 copper. average tax rate = 31.9%\n",
    "Enjoy 🥳\n",
    "---------------\n",
    "employee_d1:{Name:[employee number, base pay/hour]}\n",
    "employees_d1 = {'Joe': [1, 110], 'Sue': [2, 120], 'Bo': [3, 95], 'Li': [4, 90],'Ty': [5, 80], 'Vi': [6, 86]}\n",
    "pnone_m:{'employee number':'logged hours at work', 'number of calls', 'total call-time in minutes','# feedback rated 4+'}\n",
    "phone_m = {1:[180,1200,4783,223],2:[175,1213,4565,275],3:[155,1008,4145,180],4:[160,1005,4315,138],5:[185,1265,6200,264],6:[160,1052,4532,184]}\n",
    "output should be a printed list, like (bonus: make categories align as below)\n",
    "\"Joe's monthly after tax pay: 13 990 Gross: 21 300 tax: 7 310 Tax rate: 34,3%\"\n",
    "\"Sue's monthly after tax pay: 14 590 Gross: 22 500 tax: 7 910 Tax rate: 35,2%\"\n",
    "\"Bo's monthly after tax pay: 10 308 Gross: 14 725 tax: 4 417 Tax rate: 30.0%\"\n",
    "\"Li's monthly after tax pay: 10 080 Gross: 14 400 tax: 4 320 Tax rate: 30.0%\"\n",
    "\"Ty's monthly after tax pay: 11 410 Gross: 16 300 tax: 4 890 Tax rate: 30.0%\"\n",
    "\"Vi's monthly after tax pay: 9 632 Gross: 13 760 tax: 4 128 Tax rate: 30,0%\""
   ]
  },
  {
   "cell_type": "code",
   "execution_count": 96,
   "metadata": {},
   "outputs": [
    {
     "name": "stdout",
     "output_type": "stream",
     "text": [
      "Joe's monthly after tax pay: 13 990 Gross: 21 300 tax: 7 310 Tax rate: 34.3%\n",
      "Sue's monthly after tax pay: 14 590 Gross: 22 500 tax: 7 910 Tax rate: 35.2%\n",
      "Bo's monthly after tax pay: 10 307 Gross: 14 725 tax: 4 418 Tax rate: 30.0%\n",
      "Li's monthly after tax pay: 10 080 Gross: 14 400 tax: 4 320 Tax rate: 30.0%\n",
      "Ty's monthly after tax pay: 11 410 Gross: 16 300 tax: 4 890 Tax rate: 30.0%\n",
      "Vi's monthly after tax pay: 9 632 Gross: 13 760 tax: 4 128 Tax rate: 30.0%\n"
     ]
    }
   ],
   "source": [
    "def ps(number):\n",
    "    br = number // 1000\n",
    "    re = number % 1000\n",
    "    if len(str(re)) == 1:        \n",
    "        return f\"{br} 00{re}\"\n",
    "    elif len(str(re)) == 2:\n",
    "        return f\"{br} 0{re}\"\n",
    "    else:\n",
    "        return f\"{br} {re}\"\n",
    "    \n",
    "def add_p(data):\n",
    "    if data > 1100:\n",
    "        return 1500\n",
    "    else:\n",
    "        return 0 \n",
    "\n",
    "def tax_p(data):\n",
    "    if data > 16700:\n",
    "        data = 16700 *0.3 + (data-16700) * 0.5\n",
    "        return round(data)\n",
    "    else:\n",
    "        data = data * 0.3\n",
    "        return round(data)\n",
    "        \n",
    "employees_d1 = {'Joe': [1, 110], 'Sue': [2, 120], 'Bo': [3, 95],'Li': [4, 90],'Ty': [5, 80], 'Vi': [6, 86]}\n",
    "phone_m = {1:[180,1200,4783,223],2:[175,1213,4565,275],3:[155,1008,4145,180],4:[160,1005,4315,138],5:[185,1265,6200,264],6:[160,1052,4532,184]}\n",
    "\n",
    "my_dict = {'employees_id':phone_m.keys(),\n",
    "           'employees_name':employees_d1.keys(),\n",
    "           'Hourly_salary':[employees_d1[k][1] for k in employees_d1.keys()],\n",
    "           'total_working_time':[phone_m[k][0] for k in phone_m.keys()],\n",
    "           'number_of_calls':[phone_m[k][1] for k in phone_m.keys()],\n",
    "           'total_call-time_in_minutes':[phone_m[k][2] for k in phone_m.keys()],\n",
    "           '#_feedback_rated_4+':[phone_m[k][3] for k in phone_m.keys()]}\n",
    "\n",
    "import pandas as pd\n",
    "data = pd.DataFrame(my_dict)\n",
    "\n",
    "data['basepay'] = data['Hourly_salary']*data['total_working_time']\n",
    "data['wages'] = data['basepay'] + data['number_of_calls'].apply(add_p)\n",
    "data['taxpay'] = data['wages'].apply(tax_p)\n",
    "data['taxrate'] = round(data['taxpay'] / data['wages'] * 100,1)\n",
    "\n",
    "for id1,data1 in data.iterrows():    \n",
    "    print(f\"{data1['employees_name']}'s monthly after tax pay: {ps(data1['wages']-data1['taxpay'])} Gross: {ps(data1['wages'])} tax: {ps(data1['taxpay'])} Tax rate: {data1['taxrate']}%\")"
   ]
  }
 ],
 "metadata": {
  "kernelspec": {
   "display_name": "Python 3",
   "language": "python",
   "name": "python3"
  },
  "language_info": {
   "codemirror_mode": {
    "name": "ipython",
    "version": 3
   },
   "file_extension": ".py",
   "mimetype": "text/x-python",
   "name": "python",
   "nbconvert_exporter": "python",
   "pygments_lexer": "ipython3",
   "version": "3.8.5"
  }
 },
 "nbformat": 4,
 "nbformat_minor": 4
}
