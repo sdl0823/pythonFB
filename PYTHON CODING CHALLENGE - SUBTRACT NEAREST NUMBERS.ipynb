{
 "cells": [
  {
   "cell_type": "markdown",
   "metadata": {},
   "source": [
    "PYTHON CODING CHALLENGE - SUBTRACT NEAREST NUMBERS\n",
    "write code to subtract 2 numbers nearest each other.\n",
    "print results as shown\n",
    "nums = [25, 73, 42, 20, 95, 9, 27, 16, 55, 3]\n",
    "output: 'Difference of closest pair is: 27-25=2'\n",
    "\n",
    "bonus: subtract all numbers in closest pairs\n",
    "output:['27-25=2','20-16=4','9-3=6','55-42=13','95-73=22']\n",
    "\n",
    "share your code in some useful way, that makes testing your code easy for others in group.\n",
    "Compatible with #pyrun\n",
    "Remember there are many ways to solve same problem.👍\n",
    "Enjoy 🥳\n",
    "One way to Share code: Carbon-Copy:\n",
    "Write your code in comment or another nice way to answer or share code in general:\n",
    "- Write your code\n",
    "Goto http://carbon.now.sh paste in your code\n",
    "- Click copy button in carbon\n",
    "- Copy ’image’ to post\n",
    "- Copy ’plain url’ or code to post\n",
    "\n",
    "Result: Beautiful ’screenshot’ + editable code via link"
   ]
  },
  {
   "cell_type": "code",
   "execution_count": 1,
   "metadata": {},
   "outputs": [
    {
     "name": "stdout",
     "output_type": "stream",
     "text": [
      "Difference of closest pair is: 27-25=2\n",
      "['27-25=2', '20-16=4', '9-3=6', '55-42=13', '95-73=22']\n"
     ]
    },
    {
     "data": {
      "image/png": "[encoded data removed]",
      "text/plain": [
       "<Figure size 432x288 with 1 Axes>"
      ]
     },
     "metadata": {
      "needs_background": "light"
     },
     "output_type": "display_data"
    },
    {
     "name": "stdout",
     "output_type": "stream",
     "text": [
      "   number_2  number_1  dcp\n",
      "0        27        25    2\n",
      "1        20        16    4\n",
      "2        25        20    5\n",
      "3         9         3    6\n",
      "4        16         9    7\n",
      "5        55        42   13\n",
      "6        42        27   15\n",
      "7        73        55   18\n",
      "8        95        73   22\n"
     ]
    }
   ],
   "source": [
    "import pandas as pd\n",
    "nums = [25, 73, 42, 20, 95, 9, 27, 16, 55, 3]\n",
    "nums.sort()\n",
    "nums_new = nums[1:]\n",
    "mydict = {\"number_1\":nums[:-1],\"number_2\":nums_new}\n",
    "data = pd.DataFrame(mydict)\n",
    "data[\"dcp\"] = data[\"number_2\"] - data[\"number_1\"]\n",
    "prd = data[data['dcp']==min(data['dcp'])]\n",
    "print(f'Difference of closest pair is: {prd.iloc[0,1]}-{prd.iloc[0,0]}={prd.iloc[0,2]}')\n",
    "\n",
    "data = data.sort_values('dcp')\n",
    "\n",
    "#print([f'{da[1]}-{da[0]}={da[2]}' for i,da in data.iterrows()])\n",
    "\n",
    "new_list = []\n",
    "pr_list = []\n",
    "for i,d in data.iterrows():\n",
    "    if d[1] and d[0] not in new_list:\n",
    "        pr_list.append(f'{d[1]}-{d[0]}={d[2]}')\n",
    "        new_list.append(d[1])\n",
    "        new_list.append(d[0])\n",
    "    else:        \n",
    "        continue\n",
    "        \n",
    "print(pr_list)\n",
    "\n",
    "%matplotlib inline\n",
    "import matplotlib.pyplot as plt\n",
    "data.plot(x='number_1',y='dcp',kind='bar',rot=0)\n",
    "data = data.reset_index()\n",
    "plt.xlabel([f'{d[2]}-{d[1]}' for i,d in data.iterrows()])\n",
    "plt.show()\n",
    "\n",
    "data = data.reset_index()\n",
    "print(data[['number_2','number_1','dcp']])"
   ]
  },
  {
   "cell_type": "code",
   "execution_count": 2,
   "metadata": {},
   "outputs": [
    {
     "name": "stdout",
     "output_type": "stream",
     "text": [
      "Difference of closest pair is: 27-25=2\n",
      "['27-25=2', '20-16=4', '9-3=6', '55-42=13', '95-73=22']\n"
     ]
    }
   ],
   "source": [
    "import numpy as np\n",
    "nums = [25, 73, 42, 20, 95, 9, 27, 16, 55, 3]\n",
    "nums.sort()\n",
    "nums_new = nums[1:]\n",
    "np_nums = np.array(nums[:-1])\n",
    "np_nums_new = np.array(nums_new)\n",
    "np_nums_difference = np_nums_new - np_nums\n",
    "num2 = [(np_nums[i],np_nums_new[i]) for i in range(len(nums)-1) if np_nums_difference[i] == min(np_nums_difference)]\n",
    "print(f'Difference of closest pair is: {num2[0][1]}-{num2[0][0]}={min(np_nums_difference)}')\n",
    "mydict= {np_nums_difference[i]:[np_nums[i],np_nums_new[i]] for i in range(len(np_nums))}\n",
    "np_nums_difference.sort()\n",
    "#print([f'{mydict[i][1]}-{mydict[i][0]}={i}' for i in np_nums_difference])\n",
    "\n",
    "new_list = []\n",
    "pr_list = []\n",
    "for d in np_nums_difference:\n",
    "    if mydict[d][1] and mydict[d][0] not in new_list:\n",
    "        pr_list.append(f'{mydict[d][1]}-{mydict[d][0]}={d}')\n",
    "        new_list.append(mydict[d][1])  \n",
    "        new_list.append(mydict[d][0])\n",
    "    else:        \n",
    "        continue\n",
    "\n",
    "print(pr_list)"
   ]
  },
  {
   "cell_type": "code",
   "execution_count": 3,
   "metadata": {},
   "outputs": [
    {
     "name": "stdout",
     "output_type": "stream",
     "text": [
      "Difference of closest pair is:27-25=2\n",
      "['27-25=2', '20-16=4', '9-3=6', '55-42=13', '95-73=22']\n"
     ]
    }
   ],
   "source": [
    "nums = [25, 73, 42, 20, 95, 9, 27, 16, 55, 3]\n",
    "nums.sort()\n",
    "nums_new = nums[1:]\n",
    "nums_difference = [nums_new[i]-nums[i] for i in range(len(nums)-1)]\n",
    "myvalues = [[nums[i],nums_new[i],nums_difference[i]] for i in range(len(nums)-1)]\n",
    "mykeys = [v[2] for k,v in enumerate(myvalues)]\n",
    "mydict = {mykeys[i]:myvalues[i] for i in range(len(nums)-1)}\n",
    "nums_difference.sort()\n",
    "print(f'Difference of closest pair is:{mydict[min(nums_difference)][1]}-{mydict[min(nums_difference)][0]}={min(nums_difference)}')\n",
    "#print([f'{mydict[i][1]}-{mydict[i][0]}={i}' for i in nums_difference])\n",
    "\n",
    "new_list = []\n",
    "pr_list = []\n",
    "for d in nums_difference:\n",
    "    if mydict[d][1] and mydict[d][0] not in new_list:\n",
    "        pr_list.append(f'{mydict[d][1]}-{mydict[d][0]}={d}')\n",
    "        new_list.append(mydict[d][1])  \n",
    "        new_list.append(mydict[d][0])\n",
    "    else:        \n",
    "        continue\n",
    "\n",
    "print(pr_list)"
   ]
  }
 ],
 "metadata": {
  "kernelspec": {
   "display_name": "Python 3",
   "language": "python",
   "name": "python3"
  },
  "language_info": {
   "codemirror_mode": {
    "name": "ipython",
    "version": 3
   },
   "file_extension": ".py",
   "mimetype": "text/x-python",
   "name": "python",
   "nbconvert_exporter": "python",
   "pygments_lexer": "ipython3",
   "version": "3.8.5"
  }
 },
 "nbformat": 4,
 "nbformat_minor": 4
}
