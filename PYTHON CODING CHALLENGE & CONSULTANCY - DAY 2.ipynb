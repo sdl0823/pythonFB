{
 "cells": [
  {
   "cell_type": "markdown",
   "metadata": {},
   "source": [
    "#pyrun to edit code in browser\n",
    "Please share code in some editable format or via link 🙏\n",
    "client uses IP-phones for alot of work. phones double as logging system for hours worked, and capture other data in phone_m.\n",
    "system registers monthly values for {'employee number':'logged hours at work', 'number of calls', 'total call-time in minutes','# feedback rated 4+'}\n",
    "Client needs to calculate monthly employee wages = # hours worked * basepay\n",
    "Enjoy 🥳\n",
    "---------------\n",
    "employee_d1:{Name:[employee number, base pay/hour]}\n",
    "employees_d1 = {'Joe': [1, 110], 'Sue': [2, 120], 'Bo': [3, 95],\n",
    "'Li': [4, 90],'Ty': [5, 80], 'Vi': [6, 86]}\n",
    "phone_m = {1:[180,1200,4783,223],2:[175,1213,4565,275],3:[155,1008,4145,180],4:[160,1005,4315,138],5:[185,1265,6200,264],6:[160,1052,4532,184]}\n",
    "# output should be a printed list, like\n",
    "\"Joe's monthly pay is 19 800 copper\"\n",
    "\"Sue's monthly pay is 21 000 copper\"\n",
    "\"Bo's monthly pay is 14 725 copper\"\n",
    "\"Li's monthly pay is 14 400 copper\"\n",
    "\"Ty's monthly pay is 14 800 copper\"\n",
    "\"Vi's monthly pay is 13 760 copper\"\n",
    "# bonus:\n",
    "# client would love if bonus of 1500 copper can be added for 1100+ calls"
   ]
  },
  {
   "cell_type": "code",
   "execution_count": 1,
   "metadata": {},
   "outputs": [
    {
     "name": "stdout",
     "output_type": "stream",
     "text": [
      "Joe's monthly pay is 19 800 copper\n",
      "Sue's monthly pay is 21 000 copper\n",
      "Bo's monthly pay is 14 725 copper\n",
      "Li's monthly pay is 14 400 copper\n",
      "Ty's monthly pay is 14 800 copper\n",
      "Vi's monthly pay is 13 760 copper\n"
     ]
    }
   ],
   "source": [
    "# employee_d1:{Name:[employee number, base pay/hour]}\n",
    "employees_d1 = {'Joe': [1, 110], 'Sue': [2, 120], 'Bo': [3, 95],\n",
    "'Li': [4, 90],'Ty': [5, 80], 'Vi': [6, 86]}\n",
    "phone_m = {1:[180,1200,4783,223],2:[175,1213,4565,275],3:[155,1008,4145,180],4:[160,1005,4315,138],5:[185,1265,6200,264],6:[160,1052,4532,184]}\n",
    "\n",
    "#print({f\"{n}'s monthly pay is {employees_d1[n][1] * phone_m[employees_d1[n][0]][0]}  copper\" for n in employees_d1.keys()})\n",
    "employees_d2 = {emp[0]:[phone_m[emp[1][0]],emp[1][1]] for emp in employees_d1.items()}\n",
    "\n",
    "\n",
    "#print(employees_d2)\n",
    "\n",
    "def number_str(number):\n",
    "    ns = number\n",
    "    if ns == 0:\n",
    "        return '000'\n",
    "    elif ns // 10 == 0:\n",
    "        return '00' + str(ns)\n",
    "    elif ns // 100 == 0:\n",
    "        return '0' + str(ns)\n",
    "    else:\n",
    "        return str(ns)\n",
    "\n",
    "\n",
    "for n in employees_d2.items():\n",
    "    print(f\"{n[0]}'s monthly pay is {(n[1][0][0] * n[1][1]//1000)} {number_str((n[1][0][0] * n[1][1]%1000))} copper\")"
   ]
  },
  {
   "cell_type": "code",
   "execution_count": 2,
   "metadata": {},
   "outputs": [
    {
     "name": "stdout",
     "output_type": "stream",
     "text": [
      "Joe's monthly pay is 21 300 copper\n",
      "Sue's monthly pay is 22 500 copper\n",
      "Bo's monthly pay is 14 725 copper\n",
      "Li's monthly pay is 14 400 copper\n",
      "Ty's monthly pay is 16 300 copper\n",
      "Vi's monthly pay is 13 760 copper\n"
     ]
    }
   ],
   "source": [
    "def add_per(number):\n",
    "    ap = number + 1500\n",
    "    return ap\n",
    "\n",
    "for n in employees_d2.items():\n",
    "    if n[1][0][1] >= 1100:\n",
    "        print(f\"{n[0]}'s monthly pay is {(add_per(n[1][0][0] * n[1][1])//1000)} {number_str((add_per(n[1][0][0] * n[1][1])%1000))} copper\")\n",
    "    else:\n",
    "        print(f\"{n[0]}'s monthly pay is {(n[1][0][0] * n[1][1]//1000)} {number_str((n[1][0][0] * n[1][1]%1000))} copper\")"
   ]
  },
  {
   "cell_type": "code",
   "execution_count": null,
   "metadata": {},
   "outputs": [],
   "source": []
  }
 ],
 "metadata": {
  "kernelspec": {
   "display_name": "Python 3",
   "language": "python",
   "name": "python3"
  },
  "language_info": {
   "codemirror_mode": {
    "name": "ipython",
    "version": 3
   },
   "file_extension": ".py",
   "mimetype": "text/x-python",
   "name": "python",
   "nbconvert_exporter": "python",
   "pygments_lexer": "ipython3",
   "version": "3.8.5"
  }
 },
 "nbformat": 4,
 "nbformat_minor": 4
}
