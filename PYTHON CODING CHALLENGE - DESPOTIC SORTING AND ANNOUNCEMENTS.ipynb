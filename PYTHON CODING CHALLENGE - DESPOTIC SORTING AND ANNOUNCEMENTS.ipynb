{
 "cells": [
  {
   "cell_type": "markdown",
   "metadata": {},
   "source": [
    "🐍 PYTHON CODING CHALLENGE - DESPOTIC SORTING AND ANNOUNCEMENTS\n",
    "You do the announcements at roman Collosseum and all famous people in attendance get called out in alphabetical order. EXCEPT any emperors in attendance, who get called out first in specific order, and most senior one is asked to start games also dictator Putinius always gets heckled at end regardless of attendance or if he's off invading some country, but wording varies on his attendance\n",
    "#pyrun compatible\n",
    "special_order : Tiberius 1st , Caligula 2nd, Claudius 3rd\n",
    "always last : Putinius\n",
    "game_1 : ['Livius','Caligula','Vespasian','Claudius','Incitatus','Scipius','Tiberius']\n",
    "game_2 : ['Claudius','Flavius','Crassus','Putinius','Scipius','Antonius','Vespasian']\n",
    "# Game 1 example announcement\n",
    "'''We are honored and lucky to have among us in todays great gamesTiberius, Caligula, Claudius, Incitatus, Livius, Scipius and Vespasian.\n",
    "We are equally honored to be spared the company of Putinius, for which we are very grateful.\n",
    "Great Emperor Tiberius, may we commence the games?'''\n",
    "# Game 2 example announcement\n",
    "'''We are honored and lucky to have among us in todays great games Claudius, Antonius, Crassus, Flavius, Scipius, and Vespasian.\n",
    "We are decidedly more unfortunate that Putinius has decided to drag his unclean person out of someones bed to join us. One must hope our loss is another peoples gain.\n",
    "Great Emperor Claudius, may we commence the games?'''\n",
    "# Note: Computers and Python totally existed in roman times...\n",
    "\n",
    "Remember to share code in some useful format we can all copy and play with\n",
    "Enjoy 🥳"
   ]
  },
  {
   "cell_type": "code",
   "execution_count": 1,
   "metadata": {},
   "outputs": [
    {
     "name": "stdout",
     "output_type": "stream",
     "text": [
      "['Tiberius', 'Caligula', 'Claudius', 'Incitatus', 'Livius', 'Scipius', 'Vespasian']\n"
     ]
    }
   ],
   "source": [
    "game_1 = ['Livius','Caligula','Vespasian','Claudius','Incitatus','Scipius','Tiberius']\n",
    "new_game = []\n",
    "if 'Tiberius' in game_1:\n",
    "    game_1.remove('Tiberius')\n",
    "    new_game.append('Tiberius')\n",
    "if 'Caligula' in game_1:\n",
    "    game_1.remove('Caligula')\n",
    "    new_game.append('Caligula')\n",
    "if 'Claudius' in game_1:\n",
    "    game_1.remove('Claudius')\n",
    "    new_game.append('Claudius')\n",
    "game_1 = sorted(game_1)\n",
    "game_1 = new_game + game_1\n",
    "print(game_1)"
   ]
  },
  {
   "cell_type": "code",
   "execution_count": 2,
   "metadata": {},
   "outputs": [
    {
     "name": "stdout",
     "output_type": "stream",
     "text": [
      "['Tiberius', 'Caligula', 'Claudius', 'Incitatus', 'Livius', 'Scipius', 'Vespasian']\n"
     ]
    }
   ],
   "source": [
    "game_1 = ['Livius','Caligula','Vespasian','Claudius','Incitatus','Scipius','Tiberius']\n",
    "new_game = []\n",
    "if 'Tiberius' in game_1:\n",
    "    game_1.remove('Tiberius')\n",
    "    new_game.append('Tiberius')\n",
    "if 'Caligula' in game_1:\n",
    "    game_1.remove('Caligula')\n",
    "    new_game.append('Caligula')\n",
    "if 'Claudius' in game_1:\n",
    "    game_1.remove('Claudius')\n",
    "    new_game.append('Claudius')\n",
    "\n",
    "sort_game = [min(game_1)]\n",
    "while sort_game[-1] != max(game_1):\n",
    "    game_1.pop(game_1.index(min(game_1)))\n",
    "    sort_game.append(min(game_1))    \n",
    "\n",
    "game_1 = new_game + sort_game\n",
    "print(game_1)"
   ]
  },
  {
   "cell_type": "code",
   "execution_count": 3,
   "metadata": {},
   "outputs": [
    {
     "name": "stdout",
     "output_type": "stream",
     "text": [
      "['Claudius', 'Antonius', 'Crassus', 'Flavius', 'Scipius', 'Putinius', 'Vespasian']\n"
     ]
    }
   ],
   "source": [
    "game_2 = ['Claudius','Flavius','Crassus','Putinius','Scipius','Antonius','Vespasian']\n",
    "new_game = []\n",
    "last_game = []\n",
    "if 'Tiberius' in game_2:\n",
    "    game_2.remove('Tiberius')\n",
    "    new_game.append('Tiberius')\n",
    "if 'Caligula' in game_2:\n",
    "    game_2.remove('Caligula')\n",
    "    new_game.append('Caligula')\n",
    "if 'Claudius' in game_2:\n",
    "    game_2.remove('Claudius')\n",
    "    new_game.append('Claudius')\n",
    "if 'Putinius' in game_2:\n",
    "    new_s = max(game_2)\n",
    "    game_2.remove(new_s)\n",
    "    game_2.remove('Putinius')\n",
    "    last_game.append('Putinius')\n",
    "    last_game.append(new_s)\n",
    "    \n",
    "game_2 = sorted(game_2)\n",
    "game_2 = new_game + game_2 + last_game\n",
    "print(game_2)"
   ]
  },
  {
   "cell_type": "code",
   "execution_count": 4,
   "metadata": {},
   "outputs": [
    {
     "name": "stdout",
     "output_type": "stream",
     "text": [
      "['Claudius', 'Antonius', 'Crassus', 'Flavius', 'Scipius', 'Putinius', 'Vespasian']\n"
     ]
    }
   ],
   "source": [
    "game_2 = ['Claudius','Flavius','Crassus','Putinius','Scipius','Antonius','Vespasian']\n",
    "new_game = []\n",
    "last_game = []\n",
    "if 'Tiberius' in game_2:\n",
    "    game_2.remove('Tiberius')\n",
    "    new_game.append('Tiberius')\n",
    "if 'Caligula' in game_2:\n",
    "    game_2.remove('Caligula')\n",
    "    new_game.append('Caligula')\n",
    "if 'Claudius' in game_2:\n",
    "    game_2.remove('Claudius')\n",
    "    new_game.append('Claudius')\n",
    "if 'Putinius' in game_2:\n",
    "    new_s = max(game_2)\n",
    "    game_2.remove(new_s)\n",
    "    game_2.remove('Putinius')\n",
    "    last_game.append('Putinius')\n",
    "    last_game.append(new_s)\n",
    "\n",
    "sort_game = [min(game_2)]\n",
    "while sort_game[-1] != max(game_2):\n",
    "    game_2.pop(game_2.index(min(game_2)))\n",
    "    sort_game.append(min(game_2))    \n",
    "\n",
    "game_2 = new_game + sort_game + last_game\n",
    "print(game_2)"
   ]
  }
 ],
 "metadata": {
  "kernelspec": {
   "display_name": "Python 3",
   "language": "python",
   "name": "python3"
  },
  "language_info": {
   "codemirror_mode": {
    "name": "ipython",
    "version": 3
   },
   "file_extension": ".py",
   "mimetype": "text/x-python",
   "name": "python",
   "nbconvert_exporter": "python",
   "pygments_lexer": "ipython3",
   "version": "3.8.5"
  }
 },
 "nbformat": 4,
 "nbformat_minor": 4
}
