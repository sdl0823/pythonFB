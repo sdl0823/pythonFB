{
 "cells": [
  {
   "cell_type": "markdown",
   "metadata": {},
   "source": [
    "# 出題者:Mike Kerry\n",
    "## 題目:\n",
    "A not-too-difficult mathematical Python challenge. \n",
    "When I was in school about 65 years ago, (yes, 65!) I remember the maths teacher getting us to think about ways in which we could calculate the square root of a number by making a guess and then making a nearer estimate using a simple mathematical operation. \n",
    "I was fascinated by this concept and thought about it that evening at home and came up with a process. The next day our teacher introduced the Newton-Raphson iterative process, which, at its simplest level, was the same as what I had thought up. \n",
    "So your task today is to write a script to find the square root of some numbers without importing any module or using n**0.5\n",
    "Start with a guess at the square root of a given number and divide that guess into the number. Calculate the average between your guess and the quotient from the division. This forms your updated guess.\n",
    "Repeat the process dividing the given number by your updated guess. Continue this loop until there is no difference between a guess and the next guess.\n",
    "How you make your initial guess is up to you.\n",
    "Find the square root of each number in this list [2, 10, 350, 8765, 27395, 567891]\n",
    "Count how many divisions are done per number. Print the square roots and the overall total number of division operations taken."
   ]
  },
  {
   "cell_type": "markdown",
   "metadata": {},
   "source": [
    "https://zh.wikipedia.org/zh-tw/%E5%B9%B3%E6%96%B9%E6%A0%B9"
   ]
  },
  {
   "cell_type": "code",
   "execution_count": 1,
   "metadata": {
    "scrolled": true
   },
   "outputs": [
    {
     "name": "stdout",
     "output_type": "stream",
     "text": [
      "count=1,x=1,y=1,y/x=1.0\n",
      "count=2,x=2,y=3,y/x=1.5\n",
      "count=3,x=5,y=7,y/x=1.4\n",
      "count=4,x=12,y=17,y/x=1.4166666666666667\n",
      "count=5,x=29,y=41,y/x=1.4137931034482758\n",
      "count=6,x=70,y=99,y/x=1.4142857142857144\n",
      "count=7,x=169,y=239,y/x=1.4142011834319526\n",
      "count=8,x=408,y=577,y/x=1.4142156862745099\n",
      "count=9,x=985,y=1393,y/x=1.4142131979695431\n",
      "count=10,x=2378,y=3363,y/x=1.4142136248948696\n",
      "count=11,x=5741,y=8119,y/x=1.4142135516460548\n",
      "count=12,x=13860,y=19601,y/x=1.4142135642135643\n",
      "count=13,x=33461,y=47321,y/x=1.4142135620573204\n",
      "count=14,x=80782,y=114243,y/x=1.4142135624272734\n",
      "count=15,x=195025,y=275807,y/x=1.4142135623637995\n",
      "count=16,x=470832,y=665857,y/x=1.4142135623746899\n",
      "count=17,x=1136689,y=1607521,y/x=1.4142135623728214\n",
      "count=18,x=2744210,y=3880899,y/x=1.414213562373142\n",
      "count=19,x=6625109,y=9369319,y/x=1.414213562373087\n",
      "count=20,x=15994428,y=22619537,y/x=1.4142135623730965\n",
      "count=21,x=38613965,y=54608393,y/x=1.4142135623730947\n",
      "count=22,x=93222358,y=131836323,y/x=1.4142135623730951\n",
      "count=23,x=225058681,y=318281039,y/x=1.4142135623730951\n",
      "count=24,x=543339720,y=768398401,y/x=1.4142135623730951\n",
      "count=25,x=1311738121,y=1855077841,y/x=1.4142135623730951\n",
      "count=26,x=3166815962,y=4478554083,y/x=1.4142135623730951\n",
      "count=27,x=7645370045,y=10812186007,y/x=1.4142135623730951\n",
      "count=28,x=18457556052,y=26102926097,y/x=1.4142135623730951\n",
      "count=29,x=44560482149,y=63018038201,y/x=1.4142135623730951\n",
      "count=30,x=107578520350,y=152139002499,y/x=1.4142135623730951\n"
     ]
    }
   ],
   "source": [
    "x = 1\n",
    "y = 1\n",
    "s = 0\n",
    "count = 0\n",
    "for i in range(30):\n",
    "    count += 1\n",
    "    x2 = x\n",
    "    s = y/x\n",
    "    print(f'{count=},{x=},{y=},y/x={s}')\n",
    "    x += y\n",
    "    y = x + x2    "
   ]
  },
  {
   "cell_type": "markdown",
   "metadata": {},
   "source": [
    "y = (2 * k + 1)!\n",
    "x = k! ** 2 * 2 ** (3*k+1)"
   ]
  },
  {
   "cell_type": "code",
   "execution_count": 2,
   "metadata": {},
   "outputs": [
    {
     "name": "stdout",
     "output_type": "stream",
     "text": [
      "s=0.5\n",
      "s=0.875\n",
      "s=1.109375\n",
      "s=1.24609375\n",
      "s=1.322998046875\n",
      "s=1.36529541015625\n",
      "s=1.3882064819335938\n",
      "s=1.4004802703857422\n",
      "s=1.407000720500946\n",
      "s=1.4104420691728592\n",
      "s=1.4122487772256136\n",
      "s=1.4131931927986443\n",
      "s=1.4136850759095978\n",
      "s=1.4139404767556698\n",
      "s=1.4140727379081\n",
      "s=1.4141410728368555\n",
      "s=1.4141763080344951\n",
      "s=1.414194443797986\n",
      "s=1.4142037635653355\n",
      "s=1.414208546077528\n",
      "s=1.4142109971150267\n",
      "s=1.414212251812794\n",
      "s=1.4142128934196068\n",
      "s=1.4142132211970002\n",
      "s=1.4142133885000447\n",
      "s=1.4142134738245975\n",
      "s=1.4142135173073023\n",
      "s=1.4142135394512723\n",
      "s=1.4142135507209712\n",
      "s=1.4142135564529732\n",
      "s=1.4142135593667409\n",
      "s=1.414213560847123\n",
      "s=1.4142135615988793\n",
      "s=1.4142135619804528\n",
      "s=1.4142135621740453\n",
      "s=1.4142135622722243\n",
      "s=1.4142135623219956\n",
      "s=1.4142135623472176\n",
      "s=1.4142135623599945\n",
      "s=1.414213562366465\n",
      "s=1.4142135623697405\n",
      "s=1.4142135623713983\n",
      "s=1.414213562372237\n",
      "s=1.4142135623726613\n",
      "s=1.4142135623728758\n",
      "s=1.4142135623729841\n",
      "s=1.414213562373039\n",
      "s=1.4142135623730667\n",
      "s=1.4142135623730807\n",
      "s=1.4142135623730878\n",
      "s=1.4142135623730914\n",
      "s=1.4142135623730931\n",
      "s=1.414213562373094\n",
      "s=1.4142135623730945\n",
      "s=1.4142135623730947\n",
      "s=1.414213562373095\n",
      "s=1.414213562373095\n",
      "s=1.414213562373095\n",
      "s=1.414213562373095\n",
      "s=1.414213562373095\n"
     ]
    }
   ],
   "source": [
    "def Factorial(n):\n",
    "    s = 1\n",
    "    for i in range(n+1):        \n",
    "        if i == 0 or i == 1:\n",
    "            s = 1\n",
    "        else:            \n",
    "            s *= i\n",
    "    return s\n",
    "\n",
    "s = 0\n",
    "for k in range(60):\n",
    "    y = Factorial(2 * k + 1)\n",
    "    x = Factorial(k)**2*2**(3*k+1)\n",
    "    s += y/x\n",
    "    #print(f'{y=},{x=},{s=},{k=}')\n",
    "    print(f'{s=}')"
   ]
  },
  {
   "cell_type": "code",
   "execution_count": 3,
   "metadata": {},
   "outputs": [
    {
     "data": {
      "text/plain": [
       "1.414213562373095"
      ]
     },
     "execution_count": 3,
     "metadata": {},
     "output_type": "execute_result"
    }
   ],
   "source": [
    "def Factorial(n):\n",
    "    s = 1\n",
    "    for i in range(n+1):        \n",
    "        if i == 0 or i == 1:\n",
    "            s = 1\n",
    "        else:            \n",
    "            s *= i\n",
    "    return s\n",
    "\n",
    "def square_root(n):\n",
    "    s = 0\n",
    "    for k in range(60):\n",
    "        y = Factorial(2 * k + 1)\n",
    "        x = Factorial(k)**2*2**(3*k+1)\n",
    "        s += y/x\n",
    "    return s\n",
    "        \n",
    "square_root(3)"
   ]
  },
  {
   "cell_type": "code",
   "execution_count": 4,
   "metadata": {},
   "outputs": [
    {
     "name": "stdout",
     "output_type": "stream",
     "text": [
      "i=0\n",
      "1\n",
      "i=1\n",
      "1\n",
      "i=2\n",
      "2\n",
      "i=3\n",
      "6\n",
      "i=4\n",
      "24\n",
      "i=5\n",
      "120\n"
     ]
    }
   ],
   "source": [
    "def Factorial(n):\n",
    "    s = 1\n",
    "    for i in range(n+1):        \n",
    "        if i == 0 or i == 1:\n",
    "            s = 1\n",
    "        else:            \n",
    "            s *= i\n",
    "    return print(s)\n",
    "\n",
    "for i in range(6):\n",
    "    print(f'{i=}')\n",
    "    Factorial(i)"
   ]
  },
  {
   "cell_type": "code",
   "execution_count": 5,
   "metadata": {},
   "outputs": [
    {
     "name": "stdout",
     "output_type": "stream",
     "text": [
      "[1, 2, 4, 2]\n",
      "1,4\n",
      "{0: [1, 2, 4, 2], 1: [3, 4, 16, 10], 2: [18, 19, 361, 350], 3: [93, 94, 8836, 8765], 4: [165, 166, 27556, 27395], 5: [753, 754, 568516, 567891]}\n"
     ]
    }
   ],
   "source": [
    "def square_root(d):\n",
    "    print(d[0])\n",
    "    minV = d[0][0]\n",
    "    maxV = d[0][2]\n",
    "    #print(d[0][1])\n",
    "    print(f'{minV},{maxV}')\n",
    "\n",
    "\n",
    "    return d\n",
    "\n",
    "def Change_max_and_min(n):\n",
    "    minV = 1\n",
    "    maxV = minV + 1\n",
    "    max_square = maxV ** 2\n",
    "    \n",
    "    while n > max_square:\n",
    "        minV += 1\n",
    "        maxV = minV+1\n",
    "        max_square = maxV ** 2\n",
    "    \n",
    "    return minV, maxV, max_square, n\n",
    "\n",
    "test_list = [2, 10, 350, 8765, 27395, 567891]\n",
    "test_dict = {}\n",
    "for k,i in enumerate(test_list):\n",
    "    minV, maxV, max_square, n = Change_max_and_min(i)\n",
    "    test_dict[k] = [minV, maxV, max_square, n]\n",
    "\n",
    "print(square_root(test_dict))"
   ]
  },
  {
   "cell_type": "code",
   "execution_count": 6,
   "metadata": {},
   "outputs": [
    {
     "data": {
      "text/plain": [
       "[1.414213562373, 3.16227766016837, 18.708286, 93.6215787, 165.51434, 753.58542]"
      ]
     },
     "execution_count": 6,
     "metadata": {},
     "output_type": "execute_result"
    }
   ],
   "source": [
    "def straight_open_division(d):\n",
    "    testV = d[3]\n",
    "    divisor = d[0] # 除數\n",
    "    business = d[0] # 商\n",
    "    s = str(d[0]) + \".\"     \n",
    "    for run in range(15):\n",
    "        if run == 0:\n",
    "            testV = (testV - business * divisor) * 100\n",
    "            divisor = divisor * 2\n",
    "        else:            \n",
    "            for b in range(1,10):\n",
    "                if (divisor * 10 + b) * b > testV:\n",
    "                    old_divisor = divisor * 10 + b - 1\n",
    "                    divisor = divisor  * 10 + (b - 1) * 2\n",
    "                    business = b - 1\n",
    "                    testV = (testV - old_divisor * business) * 100\n",
    "                    s += str(business)                    \n",
    "                    break\n",
    "    return float(s)\n",
    "\n",
    "def square_root(d):\n",
    "    dlist = []\n",
    "    for v in d.values():\n",
    "        dlist.append(straight_open_division(v))\n",
    "        \n",
    "    return dlist\n",
    "\n",
    "def Change_max_and_min(n):\n",
    "    minV = 1\n",
    "    maxV = minV + 1\n",
    "    max_square = maxV ** 2\n",
    "    \n",
    "    while n > max_square:\n",
    "        minV += 1\n",
    "        maxV = minV+1\n",
    "        max_square = maxV ** 2\n",
    "    \n",
    "    return minV, maxV, max_square, n\n",
    "\n",
    "test_list = [2, 10, 350, 8765, 27395, 567891]\n",
    "test_dict = {}\n",
    "for k,i in enumerate(test_list):\n",
    "    minV, maxV, max_square, n = Change_max_and_min(i)\n",
    "    test_dict[k] = [minV, maxV, max_square, n]\n",
    "\n",
    "square_root(test_dict)"
   ]
  },
  {
   "cell_type": "code",
   "execution_count": 7,
   "metadata": {},
   "outputs": [
    {
     "name": "stdout",
     "output_type": "stream",
     "text": [
      "1.4142135623730951\n",
      "3.1622776601683795\n",
      "18.708286933869708\n",
      "93.62157870918435\n",
      "165.5143498310645\n",
      "753.5854297954546\n"
     ]
    }
   ],
   "source": [
    "test_list = [2, 10, 350, 8765, 27395, 567891]\n",
    "for i in test_list:\n",
    "    print(pow(i,1/2))"
   ]
  },
  {
   "cell_type": "code",
   "execution_count": null,
   "metadata": {},
   "outputs": [],
   "source": []
  }
 ],
 "metadata": {
  "kernelspec": {
   "display_name": "Python 3",
   "language": "python",
   "name": "python3"
  },
  "language_info": {
   "codemirror_mode": {
    "name": "ipython",
    "version": 3
   },
   "file_extension": ".py",
   "mimetype": "text/x-python",
   "name": "python",
   "nbconvert_exporter": "python",
   "pygments_lexer": "ipython3",
   "version": "3.8.5"
  }
 },
 "nbformat": 4,
 "nbformat_minor": 4
}
